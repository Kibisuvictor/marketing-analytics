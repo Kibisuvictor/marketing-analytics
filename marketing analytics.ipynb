{
 "cells": [
  {
   "cell_type": "markdown",
   "metadata": {},
   "source": [
    "## Customer lifetime value modeling"
   ]
  },
  {
   "cell_type": "code",
   "execution_count": 1,
   "metadata": {
    "ExecuteTime": {
     "end_time": "2020-11-22T15:10:23.330464Z",
     "start_time": "2020-11-22T15:09:49.473925Z"
    }
   },
   "outputs": [],
   "source": [
    "## load the libraries\n",
    "import pandas as pd\n",
    "import numpy as np\n",
    "import seaborn as sns\n",
    "import matplotlib.pyplot as plt\n",
    "from sklearn.model_selection import train_test_split\n",
    "from sklearn.preprocessing import OneHotEncoder\n",
    "from sklearn.linear_model import LinearRegression"
   ]
  },
  {
   "cell_type": "markdown",
   "metadata": {},
   "source": [
    "### Exploratory Data Analysis(EDA)"
   ]
  },
  {
   "cell_type": "markdown",
   "metadata": {},
   "source": [
    "#### Read in the data set"
   ]
  },
  {
   "cell_type": "code",
   "execution_count": 2,
   "metadata": {
    "ExecuteTime": {
     "end_time": "2020-11-22T15:10:24.396876Z",
     "start_time": "2020-11-22T15:10:23.338472Z"
    }
   },
   "outputs": [
    {
     "data": {
      "text/html": [
       "<div>\n",
       "<style scoped>\n",
       "    .dataframe tbody tr th:only-of-type {\n",
       "        vertical-align: middle;\n",
       "    }\n",
       "\n",
       "    .dataframe tbody tr th {\n",
       "        vertical-align: top;\n",
       "    }\n",
       "\n",
       "    .dataframe thead th {\n",
       "        text-align: right;\n",
       "    }\n",
       "</style>\n",
       "<table border=\"1\" class=\"dataframe\">\n",
       "  <thead>\n",
       "    <tr style=\"text-align: right;\">\n",
       "      <th></th>\n",
       "      <th>PlayerID</th>\n",
       "      <th>Gender</th>\n",
       "      <th>MarStatus</th>\n",
       "      <th>Age</th>\n",
       "      <th>Education</th>\n",
       "      <th>Employment</th>\n",
       "      <th>Consecutive</th>\n",
       "      <th>TotalSpend</th>\n",
       "      <th>Unnamed: 8</th>\n",
       "    </tr>\n",
       "  </thead>\n",
       "  <tbody>\n",
       "    <tr>\n",
       "      <td>0</td>\n",
       "      <td>1.0</td>\n",
       "      <td>M</td>\n",
       "      <td>S</td>\n",
       "      <td>24.0</td>\n",
       "      <td>HS</td>\n",
       "      <td>H</td>\n",
       "      <td>1.0</td>\n",
       "      <td>4430.0</td>\n",
       "      <td>NaN</td>\n",
       "    </tr>\n",
       "    <tr>\n",
       "      <td>1</td>\n",
       "      <td>2.0</td>\n",
       "      <td>M</td>\n",
       "      <td>S</td>\n",
       "      <td>27.0</td>\n",
       "      <td>C</td>\n",
       "      <td>S</td>\n",
       "      <td>3.0</td>\n",
       "      <td>6837.0</td>\n",
       "      <td>NaN</td>\n",
       "    </tr>\n",
       "    <tr>\n",
       "      <td>2</td>\n",
       "      <td>3.0</td>\n",
       "      <td>M</td>\n",
       "      <td>S</td>\n",
       "      <td>35.0</td>\n",
       "      <td>HS</td>\n",
       "      <td>S</td>\n",
       "      <td>3.0</td>\n",
       "      <td>5899.0</td>\n",
       "      <td>NaN</td>\n",
       "    </tr>\n",
       "    <tr>\n",
       "      <td>3</td>\n",
       "      <td>4.0</td>\n",
       "      <td>M</td>\n",
       "      <td>M</td>\n",
       "      <td>40.0</td>\n",
       "      <td>C</td>\n",
       "      <td>S</td>\n",
       "      <td>7.0</td>\n",
       "      <td>1524.0</td>\n",
       "      <td>NaN</td>\n",
       "    </tr>\n",
       "    <tr>\n",
       "      <td>4</td>\n",
       "      <td>5.0</td>\n",
       "      <td>M</td>\n",
       "      <td>S</td>\n",
       "      <td>19.0</td>\n",
       "      <td>HS</td>\n",
       "      <td>S</td>\n",
       "      <td>3.0</td>\n",
       "      <td>4474.0</td>\n",
       "      <td>NaN</td>\n",
       "    </tr>\n",
       "  </tbody>\n",
       "</table>\n",
       "</div>"
      ],
      "text/plain": [
       "   PlayerID Gender MarStatus   Age Education Employment  Consecutive  \\\n",
       "0       1.0      M         S  24.0        HS          H          1.0   \n",
       "1       2.0      M         S  27.0         C          S          3.0   \n",
       "2       3.0      M         S  35.0        HS          S          3.0   \n",
       "3       4.0      M         M  40.0         C          S          7.0   \n",
       "4       5.0      M         S  19.0        HS          S          3.0   \n",
       "\n",
       "   TotalSpend  Unnamed: 8  \n",
       "0      4430.0         NaN  \n",
       "1      6837.0         NaN  \n",
       "2      5899.0         NaN  \n",
       "3      1524.0         NaN  \n",
       "4      4474.0         NaN  "
      ]
     },
     "execution_count": 2,
     "metadata": {},
     "output_type": "execute_result"
    }
   ],
   "source": [
    "## import the data\n",
    "gld = pd.read_csv(\"goldzoneplayers(1).csv\")\n",
    "gld.head()"
   ]
  },
  {
   "cell_type": "code",
   "execution_count": 3,
   "metadata": {
    "ExecuteTime": {
     "end_time": "2020-11-22T15:10:24.525337Z",
     "start_time": "2020-11-22T15:10:24.406512Z"
    }
   },
   "outputs": [],
   "source": [
    "## dropping the NAN in the dataset\n",
    "gld.isnull().sum()\n",
    "## dropping the unnamed column\n",
    "gld = gld.drop(['Unnamed: 8'], axis = 1)\n",
    "\n",
    "## drop the other NaNs in the other variables\n",
    "gld = gld.dropna()\n"
   ]
  },
  {
   "cell_type": "code",
   "execution_count": 4,
   "metadata": {
    "ExecuteTime": {
     "end_time": "2020-11-22T15:10:24.641602Z",
     "start_time": "2020-11-22T15:10:24.533338Z"
    }
   },
   "outputs": [
    {
     "name": "stdout",
     "output_type": "stream",
     "text": [
      "<class 'pandas.core.frame.DataFrame'>\n",
      "Int64Index: 169 entries, 0 to 169\n",
      "Data columns (total 8 columns):\n",
      "PlayerID       169 non-null float64\n",
      "Gender         169 non-null object\n",
      "MarStatus      169 non-null object\n",
      "Age            169 non-null float64\n",
      "Education      169 non-null object\n",
      "Employment     169 non-null object\n",
      "Consecutive    169 non-null float64\n",
      "TotalSpend     169 non-null float64\n",
      "dtypes: float64(4), object(4)\n",
      "memory usage: 11.9+ KB\n"
     ]
    },
    {
     "data": {
      "text/plain": [
       "PlayerID       0\n",
       "Gender         0\n",
       "MarStatus      0\n",
       "Age            0\n",
       "Education      0\n",
       "Employment     0\n",
       "Consecutive    0\n",
       "TotalSpend     0\n",
       "dtype: int64"
      ]
     },
     "execution_count": 4,
     "metadata": {},
     "output_type": "execute_result"
    }
   ],
   "source": [
    "gld.info()\n",
    "gld.isnull().sum()"
   ]
  },
  {
   "cell_type": "markdown",
   "metadata": {
    "ExecuteTime": {
     "end_time": "2020-11-20T09:06:37.806781Z",
     "start_time": "2020-11-20T09:06:37.772836Z"
    }
   },
   "source": [
    "#### Creating the visualizations"
   ]
  },
  {
   "cell_type": "code",
   "execution_count": 5,
   "metadata": {
    "ExecuteTime": {
     "end_time": "2020-11-22T15:10:26.043444Z",
     "start_time": "2020-11-22T15:10:24.649606Z"
    }
   },
   "outputs": [
    {
     "data": {
      "text/plain": [
       "Text(0.5, 1.0, 'How different gender did spend')"
      ]
     },
     "execution_count": 5,
     "metadata": {},
     "output_type": "execute_result"
    },
    {
     "data": {
      "image/png": "[encoded data removed]",
      "text/plain": [
       "<Figure size 720x360 with 1 Axes>"
      ]
     },
     "metadata": {
      "needs_background": "light"
     },
     "output_type": "display_data"
    }
   ],
   "source": [
    "## figure sizes\n",
    "plt.figure(figsize = (10,5))\n",
    "\n",
    "## bar plot\n",
    "sns.barplot(x = 'Gender', y = 'TotalSpend', data = gld)\n",
    "plt.title(\"How different gender did spend\")"
   ]
  },
  {
   "cell_type": "markdown",
   "metadata": {},
   "source": [
    "The bar plot shows the total spend of different gender during the 2019 session. From the graph its evident that male gender did spend quite higher than the females."
   ]
  },
  {
   "cell_type": "code",
   "execution_count": 6,
   "metadata": {
    "ExecuteTime": {
     "end_time": "2020-11-22T15:10:26.708233Z",
     "start_time": "2020-11-22T15:10:26.051448Z"
    }
   },
   "outputs": [
    {
     "data": {
      "text/plain": [
       "<matplotlib.axes._subplots.AxesSubplot at 0x25a548d3b08>"
      ]
     },
     "execution_count": 6,
     "metadata": {},
     "output_type": "execute_result"
    },
    {
     "data": {
      "image/png": "[encoded data removed]",
      "text/plain": [
       "<Figure size 720x360 with 1 Axes>"
      ]
     },
     "metadata": {
      "needs_background": "light"
     },
     "output_type": "display_data"
    }
   ],
   "source": [
    "## plot2\n",
    "## figure sizes\n",
    "plt.figure(figsize = (10,5))\n",
    "\n",
    "## bar plot\n",
    "sns.barplot(x = 'MarStatus', y = 'TotalSpend', data = gld)"
   ]
  },
  {
   "cell_type": "markdown",
   "metadata": {},
   "source": [
    "The bar graph shows the distribution of how much the individuals did spend during the 2019 season in relation to their marital status that is if they were married or they are single.we can see that the people who did spend a lot are the those who were single as compared to those married."
   ]
  },
  {
   "cell_type": "code",
   "execution_count": 7,
   "metadata": {
    "ExecuteTime": {
     "end_time": "2020-11-22T15:10:27.439157Z",
     "start_time": "2020-11-22T15:10:26.716237Z"
    }
   },
   "outputs": [
    {
     "data": {
      "text/plain": [
       "<matplotlib.axes._subplots.AxesSubplot at 0x25a548c8608>"
      ]
     },
     "execution_count": 7,
     "metadata": {},
     "output_type": "execute_result"
    },
    {
     "data": {
      "image/png": "[encoded data removed]",
      "text/plain": [
       "<Figure size 720x360 with 1 Axes>"
      ]
     },
     "metadata": {
      "needs_background": "light"
     },
     "output_type": "display_data"
    }
   ],
   "source": [
    "## plot 3\n",
    "## figure sizes\n",
    "plt.figure(figsize = (10,5))\n",
    "\n",
    "## bar plot\n",
    "sns.barplot(x = 'Employment', y = 'TotalSpend', data = gld)"
   ]
  },
  {
   "cell_type": "markdown",
   "metadata": {},
   "source": [
    "Also it would be interesting to look at how the different employment status did spend during that season. From the graph its evident that those who were on a hourly wage employees did spend more than the other individuals, as we would expect the unemployed did spend less."
   ]
  },
  {
   "cell_type": "code",
   "execution_count": 8,
   "metadata": {
    "ExecuteTime": {
     "end_time": "2020-11-22T15:10:28.084853Z",
     "start_time": "2020-11-22T15:10:27.455166Z"
    }
   },
   "outputs": [
    {
     "data": {
      "text/plain": [
       "<matplotlib.axes._subplots.AxesSubplot at 0x25a5496d248>"
      ]
     },
     "execution_count": 8,
     "metadata": {},
     "output_type": "execute_result"
    },
    {
     "data": {
      "image/png": "[encoded data removed]",
      "text/plain": [
       "<Figure size 720x360 with 1 Axes>"
      ]
     },
     "metadata": {
      "needs_background": "light"
     },
     "output_type": "display_data"
    }
   ],
   "source": [
    "## plot 4\n",
    "## figure sizes\n",
    "plt.figure(figsize = (10,5))\n",
    "\n",
    "## bar plot\n",
    "sns.barplot(x = 'Education', y = 'TotalSpend', data = gld)"
   ]
  },
  {
   "cell_type": "markdown",
   "metadata": {},
   "source": [
    "I was also interested in looking at how education of the individuals was related to the total spending and i found out that it did not have quiet a big impact since the values were somehow the same though those with grad school education spent more than the others."
   ]
  },
  {
   "cell_type": "code",
   "execution_count": 9,
   "metadata": {
    "ExecuteTime": {
     "end_time": "2020-11-22T15:10:29.328765Z",
     "start_time": "2020-11-22T15:10:28.100866Z"
    }
   },
   "outputs": [
    {
     "data": {
      "text/plain": [
       "<matplotlib.axes._subplots.AxesSubplot at 0x25a549b7248>"
      ]
     },
     "execution_count": 9,
     "metadata": {},
     "output_type": "execute_result"
    },
    {
     "data": {
      "image/png": "[encoded data removed]",
      "text/plain": [
       "<Figure size 720x360 with 1 Axes>"
      ]
     },
     "metadata": {
      "needs_background": "light"
     },
     "output_type": "display_data"
    }
   ],
   "source": [
    "## plot 5\n",
    "## figure sizes\n",
    "plt.figure(figsize = (10,5))\n",
    "\n",
    "## bar plot\n",
    "sns.barplot(x = 'Consecutive', y = 'Age', data = gld)"
   ]
  },
  {
   "cell_type": "markdown",
   "metadata": {},
   "source": [
    "My interest was how consecutive the individuals visited golden zone and the relation to their ages, as seen its evident that their wasn't a great different since it is said that some families usually pass down membership and that there are discounts for that. "
   ]
  },
  {
   "cell_type": "code",
   "execution_count": 10,
   "metadata": {
    "ExecuteTime": {
     "end_time": "2020-11-22T15:10:30.559700Z",
     "start_time": "2020-11-22T15:10:29.343457Z"
    }
   },
   "outputs": [
    {
     "data": {
      "text/plain": [
       "<matplotlib.axes._subplots.AxesSubplot at 0x25a54adbec8>"
      ]
     },
     "execution_count": 10,
     "metadata": {},
     "output_type": "execute_result"
    },
    {
     "data": {
      "image/png": "[encoded data removed]",
      "text/plain": [
       "<Figure size 720x360 with 1 Axes>"
      ]
     },
     "metadata": {
      "needs_background": "light"
     },
     "output_type": "display_data"
    }
   ],
   "source": [
    "## plot 6\n",
    "## figure sizes\n",
    "plt.figure(figsize = (10,5))\n",
    "\n",
    "## bar plot\n",
    "sns.scatterplot(x = 'Age', y = 'TotalSpend', hue = \"Gender\", data = gld)"
   ]
  },
  {
   "cell_type": "markdown",
   "metadata": {},
   "source": [
    "I was interested in the relationship between the age of the individuals and total spend, and the scatter plot shows that most of the spend was for the young people as its seen that age between 18 to 30 had the most concentration of the points. The older spend a little. Also the males were so dorminant in the distribution as we can see they are everywhere and ladies only occupy just few points."
   ]
  },
  {
   "cell_type": "code",
   "execution_count": 11,
   "metadata": {
    "ExecuteTime": {
     "end_time": "2020-11-22T15:10:31.268392Z",
     "start_time": "2020-11-22T15:10:30.566156Z"
    }
   },
   "outputs": [
    {
     "data": {
      "text/plain": [
       "<matplotlib.axes._subplots.AxesSubplot at 0x25a54a8b088>"
      ]
     },
     "execution_count": 11,
     "metadata": {},
     "output_type": "execute_result"
    },
    {
     "data": {
      "image/png": "[encoded data removed]",
      "text/plain": [
       "<Figure size 720x360 with 1 Axes>"
      ]
     },
     "metadata": {
      "needs_background": "light"
     },
     "output_type": "display_data"
    }
   ],
   "source": [
    "## plot 7\n",
    "## figure sizes\n",
    "plt.figure(figsize = (10,5))\n",
    "\n",
    "## bar plot\n",
    "sns.boxplot(x = 'Gender', y = 'TotalSpend', data = gld)"
   ]
  },
  {
   "cell_type": "markdown",
   "metadata": {},
   "source": [
    "I was interested in the distribution of the total spend in relation to gender so as to be able to know where median values did lie and if any outliers existed. from the plot we can see that the median value for men was higher than for ladies and for females we have some values that are too extreme (outliers), the distribution for females wasn't normal."
   ]
  },
  {
   "cell_type": "code",
   "execution_count": 12,
   "metadata": {
    "ExecuteTime": {
     "end_time": "2020-11-22T15:10:31.923598Z",
     "start_time": "2020-11-22T15:10:31.280043Z"
    }
   },
   "outputs": [
    {
     "data": {
      "text/plain": [
       "<matplotlib.axes._subplots.AxesSubplot at 0x25a54bec688>"
      ]
     },
     "execution_count": 12,
     "metadata": {},
     "output_type": "execute_result"
    },
    {
     "data": {
      "image/png": "[encoded data removed]",
      "text/plain": [
       "<Figure size 720x360 with 1 Axes>"
      ]
     },
     "metadata": {
      "needs_background": "light"
     },
     "output_type": "display_data"
    }
   ],
   "source": [
    "## plot 8\n",
    "## figure sizes\n",
    "plt.figure(figsize = (10,5))\n",
    "\n",
    "## bar plot\n",
    "sns.boxplot(x = 'Gender', y = 'Age', data = gld)"
   ]
  },
  {
   "cell_type": "markdown",
   "metadata": {},
   "source": [
    "The reason behind this was to look at how the ages of the individuals was related to different gender. The median values are not that much different as seen but we have some extreme ages for the distributions but mostly for the males."
   ]
  },
  {
   "cell_type": "code",
   "execution_count": 13,
   "metadata": {
    "ExecuteTime": {
     "end_time": "2020-11-22T15:10:32.097053Z",
     "start_time": "2020-11-22T15:10:31.931603Z"
    }
   },
   "outputs": [
    {
     "data": {
      "text/html": [
       "<div>\n",
       "<style scoped>\n",
       "    .dataframe tbody tr th:only-of-type {\n",
       "        vertical-align: middle;\n",
       "    }\n",
       "\n",
       "    .dataframe tbody tr th {\n",
       "        vertical-align: top;\n",
       "    }\n",
       "\n",
       "    .dataframe thead th {\n",
       "        text-align: right;\n",
       "    }\n",
       "</style>\n",
       "<table border=\"1\" class=\"dataframe\">\n",
       "  <thead>\n",
       "    <tr style=\"text-align: right;\">\n",
       "      <th></th>\n",
       "      <th></th>\n",
       "      <th>count</th>\n",
       "      <th>mean</th>\n",
       "      <th>std</th>\n",
       "      <th>min</th>\n",
       "      <th>25%</th>\n",
       "      <th>50%</th>\n",
       "      <th>75%</th>\n",
       "      <th>max</th>\n",
       "    </tr>\n",
       "    <tr>\n",
       "      <th>Gender</th>\n",
       "      <th>Employment</th>\n",
       "      <th></th>\n",
       "      <th></th>\n",
       "      <th></th>\n",
       "      <th></th>\n",
       "      <th></th>\n",
       "      <th></th>\n",
       "      <th></th>\n",
       "      <th></th>\n",
       "    </tr>\n",
       "  </thead>\n",
       "  <tbody>\n",
       "    <tr>\n",
       "      <td rowspan=\"3\" valign=\"top\">F</td>\n",
       "      <td>H</td>\n",
       "      <td>8.0</td>\n",
       "      <td>732.000000</td>\n",
       "      <td>252.101454</td>\n",
       "      <td>324.0</td>\n",
       "      <td>601.50</td>\n",
       "      <td>705.5</td>\n",
       "      <td>923.75</td>\n",
       "      <td>1084.0</td>\n",
       "    </tr>\n",
       "    <tr>\n",
       "      <td>S</td>\n",
       "      <td>12.0</td>\n",
       "      <td>1202.833333</td>\n",
       "      <td>1748.033380</td>\n",
       "      <td>131.0</td>\n",
       "      <td>364.75</td>\n",
       "      <td>740.0</td>\n",
       "      <td>1004.25</td>\n",
       "      <td>6592.0</td>\n",
       "    </tr>\n",
       "    <tr>\n",
       "      <td>U</td>\n",
       "      <td>12.0</td>\n",
       "      <td>1350.500000</td>\n",
       "      <td>1841.313736</td>\n",
       "      <td>93.0</td>\n",
       "      <td>479.75</td>\n",
       "      <td>709.0</td>\n",
       "      <td>811.25</td>\n",
       "      <td>5639.0</td>\n",
       "    </tr>\n",
       "    <tr>\n",
       "      <td rowspan=\"3\" valign=\"top\">M</td>\n",
       "      <td>H</td>\n",
       "      <td>55.0</td>\n",
       "      <td>4160.927273</td>\n",
       "      <td>1913.858250</td>\n",
       "      <td>556.0</td>\n",
       "      <td>2502.50</td>\n",
       "      <td>4194.0</td>\n",
       "      <td>5761.00</td>\n",
       "      <td>7192.0</td>\n",
       "    </tr>\n",
       "    <tr>\n",
       "      <td>S</td>\n",
       "      <td>57.0</td>\n",
       "      <td>3539.947368</td>\n",
       "      <td>1922.069127</td>\n",
       "      <td>351.0</td>\n",
       "      <td>2044.00</td>\n",
       "      <td>3260.0</td>\n",
       "      <td>4474.00</td>\n",
       "      <td>7285.0</td>\n",
       "    </tr>\n",
       "    <tr>\n",
       "      <td>U</td>\n",
       "      <td>25.0</td>\n",
       "      <td>3864.880000</td>\n",
       "      <td>2040.572169</td>\n",
       "      <td>522.0</td>\n",
       "      <td>2860.00</td>\n",
       "      <td>3854.0</td>\n",
       "      <td>4832.00</td>\n",
       "      <td>7231.0</td>\n",
       "    </tr>\n",
       "  </tbody>\n",
       "</table>\n",
       "</div>"
      ],
      "text/plain": [
       "                   count         mean          std    min      25%     50%  \\\n",
       "Gender Employment                                                            \n",
       "F      H             8.0   732.000000   252.101454  324.0   601.50   705.5   \n",
       "       S            12.0  1202.833333  1748.033380  131.0   364.75   740.0   \n",
       "       U            12.0  1350.500000  1841.313736   93.0   479.75   709.0   \n",
       "M      H            55.0  4160.927273  1913.858250  556.0  2502.50  4194.0   \n",
       "       S            57.0  3539.947368  1922.069127  351.0  2044.00  3260.0   \n",
       "       U            25.0  3864.880000  2040.572169  522.0  2860.00  3854.0   \n",
       "\n",
       "                       75%     max  \n",
       "Gender Employment                   \n",
       "F      H            923.75  1084.0  \n",
       "       S           1004.25  6592.0  \n",
       "       U            811.25  5639.0  \n",
       "M      H           5761.00  7192.0  \n",
       "       S           4474.00  7285.0  \n",
       "       U           4832.00  7231.0  "
      ]
     },
     "execution_count": 13,
     "metadata": {},
     "output_type": "execute_result"
    }
   ],
   "source": [
    "## using groupby\n",
    "gld.groupby(['Gender', 'Employment'])['TotalSpend'].describe()"
   ]
  },
  {
   "cell_type": "markdown",
   "metadata": {},
   "source": [
    "From the summaries above i used to groups that is gender and the education of the customers, i can say that for females those with hourly wage pay did spend alot as we can see that the minimum amount was 324 dollars and highest was 1084. for men who were many also those with hourly wage pay did spend a lot minimum of 556 and 7192 as highest. The average value for highest spenders for females was the unemployed group with 1350, while for male was the hourly wage pay group."
   ]
  },
  {
   "cell_type": "markdown",
   "metadata": {},
   "source": [
    "### Linear Regression model"
   ]
  },
  {
   "cell_type": "code",
   "execution_count": 14,
   "metadata": {
    "ExecuteTime": {
     "end_time": "2020-11-22T15:10:32.163429Z",
     "start_time": "2020-11-22T15:10:32.105063Z"
    }
   },
   "outputs": [
    {
     "data": {
      "text/html": [
       "<div>\n",
       "<style scoped>\n",
       "    .dataframe tbody tr th:only-of-type {\n",
       "        vertical-align: middle;\n",
       "    }\n",
       "\n",
       "    .dataframe tbody tr th {\n",
       "        vertical-align: top;\n",
       "    }\n",
       "\n",
       "    .dataframe thead th {\n",
       "        text-align: right;\n",
       "    }\n",
       "</style>\n",
       "<table border=\"1\" class=\"dataframe\">\n",
       "  <thead>\n",
       "    <tr style=\"text-align: right;\">\n",
       "      <th></th>\n",
       "      <th>PlayerID</th>\n",
       "      <th>Gender</th>\n",
       "      <th>MarStatus</th>\n",
       "      <th>Age</th>\n",
       "      <th>Education</th>\n",
       "      <th>Employment</th>\n",
       "      <th>Consecutive</th>\n",
       "      <th>TotalSpend</th>\n",
       "    </tr>\n",
       "  </thead>\n",
       "  <tbody>\n",
       "    <tr>\n",
       "      <td>0</td>\n",
       "      <td>1.0</td>\n",
       "      <td>M</td>\n",
       "      <td>S</td>\n",
       "      <td>24.0</td>\n",
       "      <td>HS</td>\n",
       "      <td>H</td>\n",
       "      <td>1.0</td>\n",
       "      <td>4430.0</td>\n",
       "    </tr>\n",
       "    <tr>\n",
       "      <td>1</td>\n",
       "      <td>2.0</td>\n",
       "      <td>M</td>\n",
       "      <td>S</td>\n",
       "      <td>27.0</td>\n",
       "      <td>C</td>\n",
       "      <td>S</td>\n",
       "      <td>3.0</td>\n",
       "      <td>6837.0</td>\n",
       "    </tr>\n",
       "    <tr>\n",
       "      <td>2</td>\n",
       "      <td>3.0</td>\n",
       "      <td>M</td>\n",
       "      <td>S</td>\n",
       "      <td>35.0</td>\n",
       "      <td>HS</td>\n",
       "      <td>S</td>\n",
       "      <td>3.0</td>\n",
       "      <td>5899.0</td>\n",
       "    </tr>\n",
       "    <tr>\n",
       "      <td>3</td>\n",
       "      <td>4.0</td>\n",
       "      <td>M</td>\n",
       "      <td>M</td>\n",
       "      <td>40.0</td>\n",
       "      <td>C</td>\n",
       "      <td>S</td>\n",
       "      <td>7.0</td>\n",
       "      <td>1524.0</td>\n",
       "    </tr>\n",
       "    <tr>\n",
       "      <td>4</td>\n",
       "      <td>5.0</td>\n",
       "      <td>M</td>\n",
       "      <td>S</td>\n",
       "      <td>19.0</td>\n",
       "      <td>HS</td>\n",
       "      <td>S</td>\n",
       "      <td>3.0</td>\n",
       "      <td>4474.0</td>\n",
       "    </tr>\n",
       "  </tbody>\n",
       "</table>\n",
       "</div>"
      ],
      "text/plain": [
       "   PlayerID Gender MarStatus   Age Education Employment  Consecutive  \\\n",
       "0       1.0      M         S  24.0        HS          H          1.0   \n",
       "1       2.0      M         S  27.0         C          S          3.0   \n",
       "2       3.0      M         S  35.0        HS          S          3.0   \n",
       "3       4.0      M         M  40.0         C          S          7.0   \n",
       "4       5.0      M         S  19.0        HS          S          3.0   \n",
       "\n",
       "   TotalSpend  \n",
       "0      4430.0  \n",
       "1      6837.0  \n",
       "2      5899.0  \n",
       "3      1524.0  \n",
       "4      4474.0  "
      ]
     },
     "execution_count": 14,
     "metadata": {},
     "output_type": "execute_result"
    }
   ],
   "source": [
    "df = gld.copy()\n",
    "df.head()"
   ]
  },
  {
   "cell_type": "code",
   "execution_count": 15,
   "metadata": {
    "ExecuteTime": {
     "end_time": "2020-11-22T15:10:32.381498Z",
     "start_time": "2020-11-22T15:10:32.164949Z"
    }
   },
   "outputs": [
    {
     "data": {
      "text/html": [
       "<div>\n",
       "<style scoped>\n",
       "    .dataframe tbody tr th:only-of-type {\n",
       "        vertical-align: middle;\n",
       "    }\n",
       "\n",
       "    .dataframe tbody tr th {\n",
       "        vertical-align: top;\n",
       "    }\n",
       "\n",
       "    .dataframe thead th {\n",
       "        text-align: right;\n",
       "    }\n",
       "</style>\n",
       "<table border=\"1\" class=\"dataframe\">\n",
       "  <thead>\n",
       "    <tr style=\"text-align: right;\">\n",
       "      <th></th>\n",
       "      <th>PlayerID</th>\n",
       "      <th>Gender</th>\n",
       "      <th>MarStatus</th>\n",
       "      <th>Age</th>\n",
       "      <th>Education</th>\n",
       "      <th>Employment</th>\n",
       "      <th>Consecutive</th>\n",
       "      <th>TotalSpend</th>\n",
       "      <th>Gender_M</th>\n",
       "      <th>MarStatus_S</th>\n",
       "      <th>Education_G</th>\n",
       "      <th>Education_HS</th>\n",
       "      <th>Employment_S</th>\n",
       "      <th>Employment_U</th>\n",
       "    </tr>\n",
       "  </thead>\n",
       "  <tbody>\n",
       "    <tr>\n",
       "      <td>0</td>\n",
       "      <td>1.0</td>\n",
       "      <td>M</td>\n",
       "      <td>S</td>\n",
       "      <td>24.0</td>\n",
       "      <td>HS</td>\n",
       "      <td>H</td>\n",
       "      <td>1.0</td>\n",
       "      <td>4430.0</td>\n",
       "      <td>1</td>\n",
       "      <td>1</td>\n",
       "      <td>0</td>\n",
       "      <td>1</td>\n",
       "      <td>0</td>\n",
       "      <td>0</td>\n",
       "    </tr>\n",
       "    <tr>\n",
       "      <td>1</td>\n",
       "      <td>2.0</td>\n",
       "      <td>M</td>\n",
       "      <td>S</td>\n",
       "      <td>27.0</td>\n",
       "      <td>C</td>\n",
       "      <td>S</td>\n",
       "      <td>3.0</td>\n",
       "      <td>6837.0</td>\n",
       "      <td>1</td>\n",
       "      <td>1</td>\n",
       "      <td>0</td>\n",
       "      <td>0</td>\n",
       "      <td>1</td>\n",
       "      <td>0</td>\n",
       "    </tr>\n",
       "    <tr>\n",
       "      <td>2</td>\n",
       "      <td>3.0</td>\n",
       "      <td>M</td>\n",
       "      <td>S</td>\n",
       "      <td>35.0</td>\n",
       "      <td>HS</td>\n",
       "      <td>S</td>\n",
       "      <td>3.0</td>\n",
       "      <td>5899.0</td>\n",
       "      <td>1</td>\n",
       "      <td>1</td>\n",
       "      <td>0</td>\n",
       "      <td>1</td>\n",
       "      <td>1</td>\n",
       "      <td>0</td>\n",
       "    </tr>\n",
       "    <tr>\n",
       "      <td>3</td>\n",
       "      <td>4.0</td>\n",
       "      <td>M</td>\n",
       "      <td>M</td>\n",
       "      <td>40.0</td>\n",
       "      <td>C</td>\n",
       "      <td>S</td>\n",
       "      <td>7.0</td>\n",
       "      <td>1524.0</td>\n",
       "      <td>1</td>\n",
       "      <td>0</td>\n",
       "      <td>0</td>\n",
       "      <td>0</td>\n",
       "      <td>1</td>\n",
       "      <td>0</td>\n",
       "    </tr>\n",
       "    <tr>\n",
       "      <td>4</td>\n",
       "      <td>5.0</td>\n",
       "      <td>M</td>\n",
       "      <td>S</td>\n",
       "      <td>19.0</td>\n",
       "      <td>HS</td>\n",
       "      <td>S</td>\n",
       "      <td>3.0</td>\n",
       "      <td>4474.0</td>\n",
       "      <td>1</td>\n",
       "      <td>1</td>\n",
       "      <td>0</td>\n",
       "      <td>1</td>\n",
       "      <td>1</td>\n",
       "      <td>0</td>\n",
       "    </tr>\n",
       "  </tbody>\n",
       "</table>\n",
       "</div>"
      ],
      "text/plain": [
       "   PlayerID Gender MarStatus   Age Education Employment  Consecutive  \\\n",
       "0       1.0      M         S  24.0        HS          H          1.0   \n",
       "1       2.0      M         S  27.0         C          S          3.0   \n",
       "2       3.0      M         S  35.0        HS          S          3.0   \n",
       "3       4.0      M         M  40.0         C          S          7.0   \n",
       "4       5.0      M         S  19.0        HS          S          3.0   \n",
       "\n",
       "   TotalSpend  Gender_M  MarStatus_S  Education_G  Education_HS  Employment_S  \\\n",
       "0      4430.0         1            1            0             1             0   \n",
       "1      6837.0         1            1            0             0             1   \n",
       "2      5899.0         1            1            0             1             1   \n",
       "3      1524.0         1            0            0             0             1   \n",
       "4      4474.0         1            1            0             1             1   \n",
       "\n",
       "   Employment_U  \n",
       "0             0  \n",
       "1             0  \n",
       "2             0  \n",
       "3             0  \n",
       "4             0  "
      ]
     },
     "execution_count": 15,
     "metadata": {},
     "output_type": "execute_result"
    }
   ],
   "source": [
    "## dropping one level that is creating dummy variables\n",
    "\n",
    "dummy = pd.get_dummies(df[['Gender','MarStatus','Education','Employment']], drop_first = True)\n",
    "## merge\n",
    "df = pd.concat([df, dummy], axis =1)\n",
    "df.head()"
   ]
  },
  {
   "cell_type": "code",
   "execution_count": 16,
   "metadata": {
    "ExecuteTime": {
     "end_time": "2020-11-22T15:10:32.489756Z",
     "start_time": "2020-11-22T15:10:32.389502Z"
    }
   },
   "outputs": [
    {
     "data": {
      "text/html": [
       "<div>\n",
       "<style scoped>\n",
       "    .dataframe tbody tr th:only-of-type {\n",
       "        vertical-align: middle;\n",
       "    }\n",
       "\n",
       "    .dataframe tbody tr th {\n",
       "        vertical-align: top;\n",
       "    }\n",
       "\n",
       "    .dataframe thead th {\n",
       "        text-align: right;\n",
       "    }\n",
       "</style>\n",
       "<table border=\"1\" class=\"dataframe\">\n",
       "  <thead>\n",
       "    <tr style=\"text-align: right;\">\n",
       "      <th></th>\n",
       "      <th>PlayerID</th>\n",
       "      <th>Age</th>\n",
       "      <th>Consecutive</th>\n",
       "      <th>TotalSpend</th>\n",
       "      <th>Gender_M</th>\n",
       "      <th>MarStatus_S</th>\n",
       "      <th>Education_G</th>\n",
       "      <th>Education_HS</th>\n",
       "      <th>Employment_S</th>\n",
       "      <th>Employment_U</th>\n",
       "    </tr>\n",
       "  </thead>\n",
       "  <tbody>\n",
       "    <tr>\n",
       "      <td>0</td>\n",
       "      <td>1.0</td>\n",
       "      <td>24.0</td>\n",
       "      <td>1.0</td>\n",
       "      <td>4430.0</td>\n",
       "      <td>1</td>\n",
       "      <td>1</td>\n",
       "      <td>0</td>\n",
       "      <td>1</td>\n",
       "      <td>0</td>\n",
       "      <td>0</td>\n",
       "    </tr>\n",
       "    <tr>\n",
       "      <td>1</td>\n",
       "      <td>2.0</td>\n",
       "      <td>27.0</td>\n",
       "      <td>3.0</td>\n",
       "      <td>6837.0</td>\n",
       "      <td>1</td>\n",
       "      <td>1</td>\n",
       "      <td>0</td>\n",
       "      <td>0</td>\n",
       "      <td>1</td>\n",
       "      <td>0</td>\n",
       "    </tr>\n",
       "    <tr>\n",
       "      <td>2</td>\n",
       "      <td>3.0</td>\n",
       "      <td>35.0</td>\n",
       "      <td>3.0</td>\n",
       "      <td>5899.0</td>\n",
       "      <td>1</td>\n",
       "      <td>1</td>\n",
       "      <td>0</td>\n",
       "      <td>1</td>\n",
       "      <td>1</td>\n",
       "      <td>0</td>\n",
       "    </tr>\n",
       "    <tr>\n",
       "      <td>3</td>\n",
       "      <td>4.0</td>\n",
       "      <td>40.0</td>\n",
       "      <td>7.0</td>\n",
       "      <td>1524.0</td>\n",
       "      <td>1</td>\n",
       "      <td>0</td>\n",
       "      <td>0</td>\n",
       "      <td>0</td>\n",
       "      <td>1</td>\n",
       "      <td>0</td>\n",
       "    </tr>\n",
       "    <tr>\n",
       "      <td>4</td>\n",
       "      <td>5.0</td>\n",
       "      <td>19.0</td>\n",
       "      <td>3.0</td>\n",
       "      <td>4474.0</td>\n",
       "      <td>1</td>\n",
       "      <td>1</td>\n",
       "      <td>0</td>\n",
       "      <td>1</td>\n",
       "      <td>1</td>\n",
       "      <td>0</td>\n",
       "    </tr>\n",
       "  </tbody>\n",
       "</table>\n",
       "</div>"
      ],
      "text/plain": [
       "   PlayerID   Age  Consecutive  TotalSpend  Gender_M  MarStatus_S  \\\n",
       "0       1.0  24.0          1.0      4430.0         1            1   \n",
       "1       2.0  27.0          3.0      6837.0         1            1   \n",
       "2       3.0  35.0          3.0      5899.0         1            1   \n",
       "3       4.0  40.0          7.0      1524.0         1            0   \n",
       "4       5.0  19.0          3.0      4474.0         1            1   \n",
       "\n",
       "   Education_G  Education_HS  Employment_S  Employment_U  \n",
       "0            0             1             0             0  \n",
       "1            0             0             1             0  \n",
       "2            0             1             1             0  \n",
       "3            0             0             1             0  \n",
       "4            0             1             1             0  "
      ]
     },
     "execution_count": 16,
     "metadata": {},
     "output_type": "execute_result"
    }
   ],
   "source": [
    "## columns to be used\n",
    "colsToDrop = ['Gender','MarStatus','Education','Employment']\n",
    "df = df.drop(colsToDrop, axis = 1)\n",
    "df.head()"
   ]
  },
  {
   "cell_type": "code",
   "execution_count": 17,
   "metadata": {
    "ExecuteTime": {
     "end_time": "2020-11-22T15:10:32.645785Z",
     "start_time": "2020-11-22T15:10:32.497763Z"
    }
   },
   "outputs": [],
   "source": [
    "X = df.drop(['TotalSpend'], axis = 1)\n",
    "y = df['TotalSpend']\n",
    "## split the dataset\n",
    "\n",
    "X_train,X_test,y_train,y_test = train_test_split(X,y, test_size = 1/3, random_state = 1)"
   ]
  },
  {
   "cell_type": "code",
   "execution_count": 18,
   "metadata": {
    "ExecuteTime": {
     "end_time": "2020-11-22T15:10:33.669725Z",
     "start_time": "2020-11-22T15:10:32.665973Z"
    }
   },
   "outputs": [
    {
     "name": "stdout",
     "output_type": "stream",
     "text": [
      "236.8959770227898\n"
     ]
    }
   ],
   "source": [
    "lr_model = LinearRegression()\n",
    "lr_model.fit(X_train,y_train)\n",
    "## intercept\n",
    "# print the intercept\n",
    "print(lr_model.intercept_)\n"
   ]
  },
  {
   "cell_type": "code",
   "execution_count": 19,
   "metadata": {
    "ExecuteTime": {
     "end_time": "2020-11-22T15:10:33.717770Z",
     "start_time": "2020-11-22T15:10:33.677741Z"
    }
   },
   "outputs": [
    {
     "data": {
      "text/html": [
       "<div>\n",
       "<style scoped>\n",
       "    .dataframe tbody tr th:only-of-type {\n",
       "        vertical-align: middle;\n",
       "    }\n",
       "\n",
       "    .dataframe tbody tr th {\n",
       "        vertical-align: top;\n",
       "    }\n",
       "\n",
       "    .dataframe thead th {\n",
       "        text-align: right;\n",
       "    }\n",
       "</style>\n",
       "<table border=\"1\" class=\"dataframe\">\n",
       "  <thead>\n",
       "    <tr style=\"text-align: right;\">\n",
       "      <th></th>\n",
       "      <th>Coefficient</th>\n",
       "    </tr>\n",
       "  </thead>\n",
       "  <tbody>\n",
       "    <tr>\n",
       "      <td>PlayerID</td>\n",
       "      <td>-3.202343</td>\n",
       "    </tr>\n",
       "    <tr>\n",
       "      <td>Age</td>\n",
       "      <td>21.654628</td>\n",
       "    </tr>\n",
       "    <tr>\n",
       "      <td>Consecutive</td>\n",
       "      <td>-101.569346</td>\n",
       "    </tr>\n",
       "    <tr>\n",
       "      <td>Gender_M</td>\n",
       "      <td>2468.620199</td>\n",
       "    </tr>\n",
       "    <tr>\n",
       "      <td>MarStatus_S</td>\n",
       "      <td>1292.439383</td>\n",
       "    </tr>\n",
       "    <tr>\n",
       "      <td>Education_G</td>\n",
       "      <td>1417.925482</td>\n",
       "    </tr>\n",
       "    <tr>\n",
       "      <td>Education_HS</td>\n",
       "      <td>-138.662601</td>\n",
       "    </tr>\n",
       "    <tr>\n",
       "      <td>Employment_S</td>\n",
       "      <td>-122.929458</td>\n",
       "    </tr>\n",
       "    <tr>\n",
       "      <td>Employment_U</td>\n",
       "      <td>179.989512</td>\n",
       "    </tr>\n",
       "  </tbody>\n",
       "</table>\n",
       "</div>"
      ],
      "text/plain": [
       "              Coefficient\n",
       "PlayerID        -3.202343\n",
       "Age             21.654628\n",
       "Consecutive   -101.569346\n",
       "Gender_M      2468.620199\n",
       "MarStatus_S   1292.439383\n",
       "Education_G   1417.925482\n",
       "Education_HS  -138.662601\n",
       "Employment_S  -122.929458\n",
       "Employment_U   179.989512"
      ]
     },
     "execution_count": 19,
     "metadata": {},
     "output_type": "execute_result"
    }
   ],
   "source": [
    "# print the coefficients\n",
    "coeff_df = pd.DataFrame(lr_model.coef_, X.columns, columns=['Coefficient'])\n",
    "coeff_df\n",
    "\n"
   ]
  },
  {
   "cell_type": "markdown",
   "metadata": {},
   "source": [
    "Holding all other features fixed, a 1 unit increase in PlayerID of customers is associated with an decrease of $3.202343. \n",
    "\n",
    "Holding all other features fixed, a 1 unit increase in Age of the customers is associated with an increase of $21.654628. \n",
    "\n",
    "Holding all other features fixed, a 1 unit increase in how consecutive the customers visited goldzone is associated with a decrease of $101.569346. \n",
    "\n",
    "Holding all other features fixed, a 1 unit increase in gender_M is associated with an increase $2468.6200199.\n",
    "\n",
    "Holding all other features fixed, a 1 unit increase in marital status_S is associated with an increase of $1292.439383. \n",
    "\n",
    "Holding all other features fixed, a 1 unit increase in education grad level is associated with an increase of $1417.925482. \n",
    "\n",
    "Holding all other features fixed, a 1 unit increase in education high school level is associated with an decrease of $138.662601.\n",
    "\n",
    "Holding all other features fixed, a 1 unit increase in employment salaried is associated with an decrease of $122.93\n",
    "\n",
    "Holding all other features fixed, a 1 unit increase in employment unemployed is associated with an increase of $179.9895.\n"
   ]
  },
  {
   "cell_type": "code",
   "execution_count": 20,
   "metadata": {
    "ExecuteTime": {
     "end_time": "2020-11-22T15:10:33.880954Z",
     "start_time": "2020-11-22T15:10:33.725780Z"
    }
   },
   "outputs": [
    {
     "name": "stdout",
     "output_type": "stream",
     "text": [
      "Train set evaluation:\n",
      "_____________________________________\n",
      "MAE: 1054.4392516210128\n",
      "MSE: 3066171.029708241\n",
      "RMSE: 1751.0485514994268\n",
      "R2 Square 0.32900063014971315\n",
      "====================================\n",
      "Test set evaluation:\n",
      "_____________________________________\n",
      "MAE: 1378.303045285761\n",
      "MSE: 3693364.2731878827\n",
      "RMSE: 1921.8127570572224\n",
      "R2 Square 0.1859374905647313\n"
     ]
    }
   ],
   "source": [
    "from sklearn import metrics\n",
    "def print_evaluate(true, predicted):  \n",
    "    mae = metrics.median_absolute_error(true, predicted)\n",
    "    mse = metrics.mean_squared_error(true, predicted)\n",
    "    rmse = np.sqrt(metrics.mean_squared_error(true, predicted))\n",
    "    r2_square = metrics.r2_score(true, predicted)\n",
    "    print('MAE:', mae)\n",
    "    print('MSE:', mse)\n",
    "    print('RMSE:', rmse)\n",
    "    print('R2 Square', r2_square)\n",
    "    \n",
    "## calculating the statistics\n",
    "train_pred = lr_model.predict(X_train)\n",
    "test_pred = lr_model.predict(X_test)\n",
    "\n",
    "\n",
    "print('Train set evaluation:\\n_____________________________________')\n",
    "print_evaluate(y_train, train_pred)\n",
    "print('====================================')\n",
    "print('Test set evaluation:\\n_____________________________________')\n",
    "print_evaluate(y_test, test_pred)\n",
    "                            \n",
    "                            \n"
   ]
  },
  {
   "cell_type": "markdown",
   "metadata": {},
   "source": [
    "### Decision tree model"
   ]
  },
  {
   "cell_type": "code",
   "execution_count": 21,
   "metadata": {
    "ExecuteTime": {
     "end_time": "2020-11-22T15:10:34.292076Z",
     "start_time": "2020-11-22T15:10:33.888956Z"
    }
   },
   "outputs": [
    {
     "data": {
      "text/html": [
       "<div>\n",
       "<style scoped>\n",
       "    .dataframe tbody tr th:only-of-type {\n",
       "        vertical-align: middle;\n",
       "    }\n",
       "\n",
       "    .dataframe tbody tr th {\n",
       "        vertical-align: top;\n",
       "    }\n",
       "\n",
       "    .dataframe thead th {\n",
       "        text-align: right;\n",
       "    }\n",
       "</style>\n",
       "<table border=\"1\" class=\"dataframe\">\n",
       "  <thead>\n",
       "    <tr style=\"text-align: right;\">\n",
       "      <th></th>\n",
       "      <th>PlayerID</th>\n",
       "      <th>Gender</th>\n",
       "      <th>MarStatus</th>\n",
       "      <th>Age</th>\n",
       "      <th>Education</th>\n",
       "      <th>Employment</th>\n",
       "      <th>Consecutive</th>\n",
       "      <th>TotalSpend</th>\n",
       "      <th>Gender_F</th>\n",
       "      <th>Gender_M</th>\n",
       "      <th>MarStatus_M</th>\n",
       "      <th>MarStatus_S</th>\n",
       "      <th>Education_C</th>\n",
       "      <th>Education_G</th>\n",
       "      <th>Education_HS</th>\n",
       "      <th>Employment_H</th>\n",
       "      <th>Employment_S</th>\n",
       "      <th>Employment_U</th>\n",
       "    </tr>\n",
       "  </thead>\n",
       "  <tbody>\n",
       "    <tr>\n",
       "      <td>0</td>\n",
       "      <td>1.0</td>\n",
       "      <td>M</td>\n",
       "      <td>S</td>\n",
       "      <td>24.0</td>\n",
       "      <td>HS</td>\n",
       "      <td>H</td>\n",
       "      <td>1.0</td>\n",
       "      <td>4430.0</td>\n",
       "      <td>0</td>\n",
       "      <td>1</td>\n",
       "      <td>0</td>\n",
       "      <td>1</td>\n",
       "      <td>0</td>\n",
       "      <td>0</td>\n",
       "      <td>1</td>\n",
       "      <td>1</td>\n",
       "      <td>0</td>\n",
       "      <td>0</td>\n",
       "    </tr>\n",
       "    <tr>\n",
       "      <td>1</td>\n",
       "      <td>2.0</td>\n",
       "      <td>M</td>\n",
       "      <td>S</td>\n",
       "      <td>27.0</td>\n",
       "      <td>C</td>\n",
       "      <td>S</td>\n",
       "      <td>3.0</td>\n",
       "      <td>6837.0</td>\n",
       "      <td>0</td>\n",
       "      <td>1</td>\n",
       "      <td>0</td>\n",
       "      <td>1</td>\n",
       "      <td>1</td>\n",
       "      <td>0</td>\n",
       "      <td>0</td>\n",
       "      <td>0</td>\n",
       "      <td>1</td>\n",
       "      <td>0</td>\n",
       "    </tr>\n",
       "    <tr>\n",
       "      <td>2</td>\n",
       "      <td>3.0</td>\n",
       "      <td>M</td>\n",
       "      <td>S</td>\n",
       "      <td>35.0</td>\n",
       "      <td>HS</td>\n",
       "      <td>S</td>\n",
       "      <td>3.0</td>\n",
       "      <td>5899.0</td>\n",
       "      <td>0</td>\n",
       "      <td>1</td>\n",
       "      <td>0</td>\n",
       "      <td>1</td>\n",
       "      <td>0</td>\n",
       "      <td>0</td>\n",
       "      <td>1</td>\n",
       "      <td>0</td>\n",
       "      <td>1</td>\n",
       "      <td>0</td>\n",
       "    </tr>\n",
       "    <tr>\n",
       "      <td>3</td>\n",
       "      <td>4.0</td>\n",
       "      <td>M</td>\n",
       "      <td>M</td>\n",
       "      <td>40.0</td>\n",
       "      <td>C</td>\n",
       "      <td>S</td>\n",
       "      <td>7.0</td>\n",
       "      <td>1524.0</td>\n",
       "      <td>0</td>\n",
       "      <td>1</td>\n",
       "      <td>1</td>\n",
       "      <td>0</td>\n",
       "      <td>1</td>\n",
       "      <td>0</td>\n",
       "      <td>0</td>\n",
       "      <td>0</td>\n",
       "      <td>1</td>\n",
       "      <td>0</td>\n",
       "    </tr>\n",
       "    <tr>\n",
       "      <td>4</td>\n",
       "      <td>5.0</td>\n",
       "      <td>M</td>\n",
       "      <td>S</td>\n",
       "      <td>19.0</td>\n",
       "      <td>HS</td>\n",
       "      <td>S</td>\n",
       "      <td>3.0</td>\n",
       "      <td>4474.0</td>\n",
       "      <td>0</td>\n",
       "      <td>1</td>\n",
       "      <td>0</td>\n",
       "      <td>1</td>\n",
       "      <td>0</td>\n",
       "      <td>0</td>\n",
       "      <td>1</td>\n",
       "      <td>0</td>\n",
       "      <td>1</td>\n",
       "      <td>0</td>\n",
       "    </tr>\n",
       "  </tbody>\n",
       "</table>\n",
       "</div>"
      ],
      "text/plain": [
       "   PlayerID Gender MarStatus   Age Education Employment  Consecutive  \\\n",
       "0       1.0      M         S  24.0        HS          H          1.0   \n",
       "1       2.0      M         S  27.0         C          S          3.0   \n",
       "2       3.0      M         S  35.0        HS          S          3.0   \n",
       "3       4.0      M         M  40.0         C          S          7.0   \n",
       "4       5.0      M         S  19.0        HS          S          3.0   \n",
       "\n",
       "   TotalSpend  Gender_F  Gender_M  MarStatus_M  MarStatus_S  Education_C  \\\n",
       "0      4430.0         0         1            0            1            0   \n",
       "1      6837.0         0         1            0            1            1   \n",
       "2      5899.0         0         1            0            1            0   \n",
       "3      1524.0         0         1            1            0            1   \n",
       "4      4474.0         0         1            0            1            0   \n",
       "\n",
       "   Education_G  Education_HS  Employment_H  Employment_S  Employment_U  \n",
       "0            0             1             1             0             0  \n",
       "1            0             0             0             1             0  \n",
       "2            0             1             0             1             0  \n",
       "3            0             0             0             1             0  \n",
       "4            0             1             0             1             0  "
      ]
     },
     "execution_count": 21,
     "metadata": {},
     "output_type": "execute_result"
    }
   ],
   "source": [
    "## dropping one level that is creating dummy variables\n",
    "df1 = gld.copy()\n",
    "\n",
    "dummy = pd.get_dummies(df1[['Gender','MarStatus','Education','Employment']])\n",
    "## merge\n",
    "df1 = pd.concat([df1, dummy], axis =1)\n",
    "df1.head()"
   ]
  },
  {
   "cell_type": "code",
   "execution_count": 22,
   "metadata": {
    "ExecuteTime": {
     "end_time": "2020-11-22T15:10:34.351354Z",
     "start_time": "2020-11-22T15:10:34.300688Z"
    }
   },
   "outputs": [
    {
     "data": {
      "text/html": [
       "<div>\n",
       "<style scoped>\n",
       "    .dataframe tbody tr th:only-of-type {\n",
       "        vertical-align: middle;\n",
       "    }\n",
       "\n",
       "    .dataframe tbody tr th {\n",
       "        vertical-align: top;\n",
       "    }\n",
       "\n",
       "    .dataframe thead th {\n",
       "        text-align: right;\n",
       "    }\n",
       "</style>\n",
       "<table border=\"1\" class=\"dataframe\">\n",
       "  <thead>\n",
       "    <tr style=\"text-align: right;\">\n",
       "      <th></th>\n",
       "      <th>PlayerID</th>\n",
       "      <th>Age</th>\n",
       "      <th>Consecutive</th>\n",
       "      <th>TotalSpend</th>\n",
       "      <th>Gender_F</th>\n",
       "      <th>Gender_M</th>\n",
       "      <th>MarStatus_M</th>\n",
       "      <th>MarStatus_S</th>\n",
       "      <th>Education_C</th>\n",
       "      <th>Education_G</th>\n",
       "      <th>Education_HS</th>\n",
       "      <th>Employment_H</th>\n",
       "      <th>Employment_S</th>\n",
       "      <th>Employment_U</th>\n",
       "    </tr>\n",
       "  </thead>\n",
       "  <tbody>\n",
       "    <tr>\n",
       "      <td>0</td>\n",
       "      <td>1.0</td>\n",
       "      <td>24.0</td>\n",
       "      <td>1.0</td>\n",
       "      <td>4430.0</td>\n",
       "      <td>0</td>\n",
       "      <td>1</td>\n",
       "      <td>0</td>\n",
       "      <td>1</td>\n",
       "      <td>0</td>\n",
       "      <td>0</td>\n",
       "      <td>1</td>\n",
       "      <td>1</td>\n",
       "      <td>0</td>\n",
       "      <td>0</td>\n",
       "    </tr>\n",
       "    <tr>\n",
       "      <td>1</td>\n",
       "      <td>2.0</td>\n",
       "      <td>27.0</td>\n",
       "      <td>3.0</td>\n",
       "      <td>6837.0</td>\n",
       "      <td>0</td>\n",
       "      <td>1</td>\n",
       "      <td>0</td>\n",
       "      <td>1</td>\n",
       "      <td>1</td>\n",
       "      <td>0</td>\n",
       "      <td>0</td>\n",
       "      <td>0</td>\n",
       "      <td>1</td>\n",
       "      <td>0</td>\n",
       "    </tr>\n",
       "    <tr>\n",
       "      <td>2</td>\n",
       "      <td>3.0</td>\n",
       "      <td>35.0</td>\n",
       "      <td>3.0</td>\n",
       "      <td>5899.0</td>\n",
       "      <td>0</td>\n",
       "      <td>1</td>\n",
       "      <td>0</td>\n",
       "      <td>1</td>\n",
       "      <td>0</td>\n",
       "      <td>0</td>\n",
       "      <td>1</td>\n",
       "      <td>0</td>\n",
       "      <td>1</td>\n",
       "      <td>0</td>\n",
       "    </tr>\n",
       "    <tr>\n",
       "      <td>3</td>\n",
       "      <td>4.0</td>\n",
       "      <td>40.0</td>\n",
       "      <td>7.0</td>\n",
       "      <td>1524.0</td>\n",
       "      <td>0</td>\n",
       "      <td>1</td>\n",
       "      <td>1</td>\n",
       "      <td>0</td>\n",
       "      <td>1</td>\n",
       "      <td>0</td>\n",
       "      <td>0</td>\n",
       "      <td>0</td>\n",
       "      <td>1</td>\n",
       "      <td>0</td>\n",
       "    </tr>\n",
       "    <tr>\n",
       "      <td>4</td>\n",
       "      <td>5.0</td>\n",
       "      <td>19.0</td>\n",
       "      <td>3.0</td>\n",
       "      <td>4474.0</td>\n",
       "      <td>0</td>\n",
       "      <td>1</td>\n",
       "      <td>0</td>\n",
       "      <td>1</td>\n",
       "      <td>0</td>\n",
       "      <td>0</td>\n",
       "      <td>1</td>\n",
       "      <td>0</td>\n",
       "      <td>1</td>\n",
       "      <td>0</td>\n",
       "    </tr>\n",
       "  </tbody>\n",
       "</table>\n",
       "</div>"
      ],
      "text/plain": [
       "   PlayerID   Age  Consecutive  TotalSpend  Gender_F  Gender_M  MarStatus_M  \\\n",
       "0       1.0  24.0          1.0      4430.0         0         1            0   \n",
       "1       2.0  27.0          3.0      6837.0         0         1            0   \n",
       "2       3.0  35.0          3.0      5899.0         0         1            0   \n",
       "3       4.0  40.0          7.0      1524.0         0         1            1   \n",
       "4       5.0  19.0          3.0      4474.0         0         1            0   \n",
       "\n",
       "   MarStatus_S  Education_C  Education_G  Education_HS  Employment_H  \\\n",
       "0            1            0            0             1             1   \n",
       "1            1            1            0             0             0   \n",
       "2            1            0            0             1             0   \n",
       "3            0            1            0             0             0   \n",
       "4            1            0            0             1             0   \n",
       "\n",
       "   Employment_S  Employment_U  \n",
       "0             0             0  \n",
       "1             1             0  \n",
       "2             1             0  \n",
       "3             1             0  \n",
       "4             1             0  "
      ]
     },
     "execution_count": 22,
     "metadata": {},
     "output_type": "execute_result"
    }
   ],
   "source": [
    "## columns to be used\n",
    "colsToDrop = ['Gender','MarStatus','Education','Employment']\n",
    "df1 = df1.drop(colsToDrop, axis = 1)\n",
    "df1.head()"
   ]
  },
  {
   "cell_type": "code",
   "execution_count": 23,
   "metadata": {
    "ExecuteTime": {
     "end_time": "2020-11-22T15:10:35.655479Z",
     "start_time": "2020-11-22T15:10:34.363009Z"
    }
   },
   "outputs": [],
   "source": [
    "from sklearn.tree import DecisionTreeRegressor\n",
    "x = df.drop('TotalSpend', axis = 1)\n",
    "Y = df['TotalSpend']"
   ]
  },
  {
   "cell_type": "code",
   "execution_count": 24,
   "metadata": {
    "ExecuteTime": {
     "end_time": "2020-11-22T15:10:35.687121Z",
     "start_time": "2020-11-22T15:10:35.662483Z"
    }
   },
   "outputs": [],
   "source": [
    "\n",
    "## split the dataset\n",
    "\n",
    "x_train,x_test,ytrain,ytest = train_test_split(x,Y, test_size = 1/3, random_state = 1)"
   ]
  },
  {
   "cell_type": "code",
   "execution_count": 25,
   "metadata": {
    "ExecuteTime": {
     "end_time": "2020-11-22T15:10:35.844556Z",
     "start_time": "2020-11-22T15:10:35.704272Z"
    }
   },
   "outputs": [
    {
     "data": {
      "text/plain": [
       "DecisionTreeRegressor(criterion='mse', max_depth=4, max_features=None,\n",
       "                      max_leaf_nodes=None, min_impurity_decrease=0.0,\n",
       "                      min_impurity_split=None, min_samples_leaf=1,\n",
       "                      min_samples_split=2, min_weight_fraction_leaf=0.0,\n",
       "                      presort=False, random_state=None, splitter='best')"
      ]
     },
     "execution_count": 25,
     "metadata": {},
     "output_type": "execute_result"
    }
   ],
   "source": [
    "## fit the model\n",
    "regressor = DecisionTreeRegressor(max_depth = 4)\n",
    "regressor.fit(x_train, ytrain)"
   ]
  },
  {
   "cell_type": "code",
   "execution_count": 26,
   "metadata": {
    "ExecuteTime": {
     "end_time": "2020-11-22T15:10:38.656859Z",
     "start_time": "2020-11-22T15:10:35.844556Z"
    }
   },
   "outputs": [
    {
     "data": {
      "image/png": "[encoded data removed]",
      "text/plain": [
       "<Figure size 1800x720 with 1 Axes>"
      ]
     },
     "metadata": {
      "needs_background": "light"
     },
     "output_type": "display_data"
    }
   ],
   "source": [
    "## plot the tree\n",
    "from sklearn.tree import plot_tree\n",
    "plt.figure(figsize = (25,10))\n",
    "plot_tree(regressor, filled = True)\n",
    "plt.show()"
   ]
  },
  {
   "cell_type": "markdown",
   "metadata": {},
   "source": [
    "The first rule starts with the gender female variable being broken into if its lower or equal to 0.5, then followed by the playerID variable being less than or equal to 18 and the first rule ends there with mse of zero. The second rule begins with evaluating if the gender female is less than or equal to 5 followed by playerID being greater than 18 then followed by evaluating if playerid is less than or equal to 165.5 then continues to grow and further evaluates if age is less or equal to 45 and gives an mse of 74391.442. starting from the first breaking of gender female greater than 0.5 we follow the next which evaluates marital status male less than or equal to 0.5 then continuing to age less than or equal to 21 followed by age less than o equal 18.5 and the mse becomes zero and 1 sample. the last rule follows the previous rule but breaks where age is greater than 21 and further evaluating the age where it is greater than 23.5 giving an mse of 1511189.48 with 9 samples and gives a value of 1222.556. \n"
   ]
  },
  {
   "cell_type": "code",
   "execution_count": 27,
   "metadata": {
    "ExecuteTime": {
     "end_time": "2020-11-22T15:10:38.720918Z",
     "start_time": "2020-11-22T15:10:38.656859Z"
    }
   },
   "outputs": [
    {
     "name": "stdout",
     "output_type": "stream",
     "text": [
      "Train set evaluation:\n",
      "_____________________________________\n",
      "MAE: 534.364973262032\n",
      "MSE: 1358934.1823040696\n",
      "RMSE: 1165.7333238370043\n",
      "R2 Square 0.7026115075906867\n",
      "====================================\n",
      "Test set evaluation:\n",
      "_____________________________________\n",
      "MAE: 680.4444444444443\n",
      "MSE: 2292641.549707087\n",
      "RMSE: 1514.1471360825826\n",
      "R2 Square 0.49467385420415233\n"
     ]
    }
   ],
   "source": [
    "from sklearn import metrics\n",
    "def print_evaluate(true, predicted):  \n",
    "    mae = metrics.median_absolute_error(true, predicted)\n",
    "    mse = metrics.mean_squared_error(true, predicted)\n",
    "    rmse = np.sqrt(metrics.mean_squared_error(true, predicted))\n",
    "    r2_square = metrics.r2_score(true, predicted)\n",
    "    print('MAE:', mae)\n",
    "    print('MSE:', mse)\n",
    "    print('RMSE:', rmse)\n",
    "    print('R2 Square', r2_square)\n",
    "    \n",
    "## calculating the statistics\n",
    "train1_pred = regressor.predict(x_train)\n",
    "test1_pred = regressor.predict(x_test)\n",
    "\n",
    "\n",
    "print('Train set evaluation:\\n_____________________________________')\n",
    "print_evaluate(ytrain, train1_pred)\n",
    "print('====================================')\n",
    "print('Test set evaluation:\\n_____________________________________')\n",
    "print_evaluate(ytest, test1_pred)\n",
    "                            \n",
    "                            \n"
   ]
  },
  {
   "cell_type": "markdown",
   "metadata": {},
   "source": [
    "### visualizing the residuals"
   ]
  },
  {
   "cell_type": "code",
   "execution_count": 28,
   "metadata": {
    "ExecuteTime": {
     "end_time": "2020-11-22T15:10:40.448187Z",
     "start_time": "2020-11-22T15:10:38.727822Z"
    }
   },
   "outputs": [
    {
     "data": {
      "text/plain": [
       "<matplotlib.axes._subplots.AxesSubplot at 0x25a550c6b08>"
      ]
     },
     "execution_count": 28,
     "metadata": {},
     "output_type": "execute_result"
    },
    {
     "data": {
      "image/png": "[encoded data removed]",
      "text/plain": [
       "<Figure size 432x288 with 1 Axes>"
      ]
     },
     "metadata": {
      "needs_background": "light"
     },
     "output_type": "display_data"
    }
   ],
   "source": [
    "lr_resid = y_test - test_pred\n",
    "\n",
    "## histogram\n",
    "sns.distplot(lr_resid)"
   ]
  },
  {
   "cell_type": "code",
   "execution_count": 29,
   "metadata": {
    "ExecuteTime": {
     "end_time": "2020-11-22T15:10:41.250746Z",
     "start_time": "2020-11-22T15:10:40.458324Z"
    }
   },
   "outputs": [
    {
     "data": {
      "text/plain": [
       "<matplotlib.axes._subplots.AxesSubplot at 0x25a55160308>"
      ]
     },
     "execution_count": 29,
     "metadata": {},
     "output_type": "execute_result"
    },
    {
     "data": {
      "image/png": "[encoded data removed]",
      "text/plain": [
       "<Figure size 432x288 with 1 Axes>"
      ]
     },
     "metadata": {
      "needs_background": "light"
     },
     "output_type": "display_data"
    }
   ],
   "source": [
    "reg_tree_resid = ytest-test1_pred\n",
    "sns.distplot(reg_tree_resid)"
   ]
  },
  {
   "cell_type": "markdown",
   "metadata": {},
   "source": [
    "The logistic regression residuals are somehow normally distributed and are together but for the tree model we have some points which are somehow away from the the others, its kinda normal. this suggests that one model performed better than the other."
   ]
  },
  {
   "cell_type": "markdown",
   "metadata": {},
   "source": [
    "For RMSE the values reduced, in the linear regression they were higher but in the tree model it reduced. for the r squared it increased when we used the tree model. For MAE the values also reduced that it the error was minimized."
   ]
  },
  {
   "cell_type": "markdown",
   "metadata": {},
   "source": [
    "Lobster land care would care about such a model that would predict the total expenditure so that they may know how to do there marketing and which customers they would prefer to offer discounts and where will there marketing strength go to. they would use such a model to predict what the customers are going to spend the following year and plan on how to offer their services at best. knowing how much a customer is going to spend is good for marketing and creating product awareness."
   ]
  },
  {
   "cell_type": "markdown",
   "metadata": {},
   "source": [
    "From the two models fit the linear regression and decision tree regressor, for the linear regression it calculates the coefficients then fits them to the variables appropriately and uses them to make predictions. For the tree model we see that it creates rules by evaluating from the most important to the least important variables in use for the prediction. For trees models it calculates the performance and samples as it goes down to the tree depth specified. From the EDA i was able to visualize different variables and their relationships that existed between them and saw that some showed an existence of a relationship with  the target variable. Also calculating the different summary statistics in relation to different variables indicated how the target variable depended on the other variables and this played a critical role when it comes to predictions as this was able to bring some good predictions. Thinking about the performance of the linear regression as it performed poorly, i dont think it will ever perform better than decision trees model, this is because linear regression doesnt have parameters to be tuned for an optimal performance as compared to the decision tree which can be pruned and tuned for a better performance. "
   ]
  }
 ],
 "metadata": {
  "kernelspec": {
   "display_name": "Python 3",
   "language": "python",
   "name": "python3"
  },
  "language_info": {
   "codemirror_mode": {
    "name": "ipython",
    "version": 3
   },
   "file_extension": ".py",
   "mimetype": "text/x-python",
   "name": "python",
   "nbconvert_exporter": "python",
   "pygments_lexer": "ipython3",
   "version": "3.7.4"
  },
  "toc": {
   "base_numbering": 1,
   "nav_menu": {},
   "number_sections": true,
   "sideBar": true,
   "skip_h1_title": false,
   "title_cell": "Table of Contents",
   "title_sidebar": "Contents",
   "toc_cell": false,
   "toc_position": {},
   "toc_section_display": true,
   "toc_window_display": false
  }
 },
 "nbformat": 4,
 "nbformat_minor": 2
}
